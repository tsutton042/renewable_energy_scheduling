{
 "cells": [
  {
   "cell_type": "markdown",
   "id": "0414ca44",
   "metadata": {},
   "source": [
    "**This document is just to experiment with Gurobi's Python API**\n",
    "\n",
    "Made by JK to learn from their website or highlight useful parts"
   ]
  },
  {
   "cell_type": "markdown",
   "id": "7cbca87e",
   "metadata": {},
   "source": [
    "## Simple LP\n",
    "\n",
    "This isn't gonna make sense without the formulation"
   ]
  },
  {
   "cell_type": "code",
   "execution_count": 1,
   "id": "7b75a035",
   "metadata": {},
   "outputs": [
    {
     "ename": "NameError",
     "evalue": "name 'multidict' is not defined",
     "output_type": "error",
     "traceback": [
      "\u001b[1;31m---------------------------------------------------------------------------\u001b[0m",
      "\u001b[1;31mNameError\u001b[0m                                 Traceback (most recent call last)",
      "\u001b[1;32m~\\AppData\\Local\\Temp\\ipykernel_19108\\818748806.py\u001b[0m in \u001b[0;36m<module>\u001b[1;34m\u001b[0m\n\u001b[0;32m      8\u001b[0m \u001b[1;33m\u001b[0m\u001b[0m\n\u001b[0;32m      9\u001b[0m \u001b[1;31m# matching score data\u001b[0m\u001b[1;33m\u001b[0m\u001b[1;33m\u001b[0m\u001b[0m\n\u001b[1;32m---> 10\u001b[1;33m combinations, ms = multidict({\n\u001b[0m\u001b[0;32m     11\u001b[0m     \u001b[1;33m(\u001b[0m\u001b[1;34m'Carlos'\u001b[0m\u001b[1;33m,\u001b[0m \u001b[1;34m'Tester'\u001b[0m\u001b[1;33m)\u001b[0m\u001b[1;33m:\u001b[0m \u001b[1;36m53\u001b[0m\u001b[1;33m,\u001b[0m\u001b[1;33m\u001b[0m\u001b[1;33m\u001b[0m\u001b[0m\n\u001b[0;32m     12\u001b[0m     \u001b[1;33m(\u001b[0m\u001b[1;34m'Carlos'\u001b[0m\u001b[1;33m,\u001b[0m \u001b[1;34m'JavaDeveloper'\u001b[0m\u001b[1;33m)\u001b[0m\u001b[1;33m:\u001b[0m \u001b[1;36m27\u001b[0m\u001b[1;33m,\u001b[0m\u001b[1;33m\u001b[0m\u001b[1;33m\u001b[0m\u001b[0m\n",
      "\u001b[1;31mNameError\u001b[0m: name 'multidict' is not defined"
     ]
    }
   ],
   "source": [
    "## SETTING UP\n",
    "# import library\n",
    "from gurobipy import GRB\n",
    "\n",
    "# define resources and jobs\n",
    "R = ['Carlos', 'Joe', 'Monika']\n",
    "J = ['Tester', 'JavaDeveloper', 'Architect']\n",
    "\n",
    "# matching score data\n",
    "combinations, ms = multidict({\n",
    "    ('Carlos', 'Tester'): 53,\n",
    "    ('Carlos', 'JavaDeveloper'): 27,\n",
    "    ('Carlos', 'Architect'): 13,\n",
    "    ('Joe', 'Tester'): 80,\n",
    "    ('Joe', 'JavaDeveloper'): 47,\n",
    "    ('Joe', 'Architect'): 67,\n",
    "    ('Monika', 'Tester'): 53,\n",
    "    ('Monika', 'JavaDeveloper'): 73,\n",
    "    ('Monika', 'Architect'): 47,\n",
    "})\n",
    "\n",
    "## DECLARE FORMULATION\n",
    "# declare Resource Assignment Problem (RAP) model\n",
    "m = Model('RAP')\n",
    "\n",
    "# decision variables\n",
    "x = m.addVars(combinations, name=\"assign\")\n",
    "\n",
    "# job constraints\n",
    "jobs = m.addConstrs((x.sum('*',j) == 1 for j in J), 'job')\n",
    "\n",
    "# resource constraints\n",
    "resources = m.addConstrs((x.sum(r, '*') <= 1 for r in R), 'resource')\n",
    "\n",
    "# obj. function\n",
    "m.setObjective(x.prod(ms), GRB.MAXIMIZE)\n",
    "\n",
    "## SOLVE THE MODEL\n",
    "m.write('RAP.lp')  # prints the model for inspection\n",
    "m.optimize()  # run optimization engine\n",
    "for v in m.getVars():\n",
    "    if (abs(v.x) > 1e-6):\n",
    "        print(v.varName, v.x)\n",
    "\n",
    "print(\"total matching scores\", m.objVal)"
   ]
  },
  {
   "cell_type": "markdown",
   "id": "59d433d0",
   "metadata": {},
   "source": []
  },
  {
   "cell_type": "code",
   "execution_count": null,
   "id": "f9368bf5",
   "metadata": {},
   "outputs": [],
   "source": []
  }
 ],
 "metadata": {
  "kernelspec": {
   "display_name": "Python 3 (ipykernel)",
   "language": "python",
   "name": "python3"
  },
  "language_info": {
   "codemirror_mode": {
    "name": "ipython",
    "version": 3
   },
   "file_extension": ".py",
   "mimetype": "text/x-python",
   "name": "python",
   "nbconvert_exporter": "python",
   "pygments_lexer": "ipython3",
   "version": "3.9.7"
  }
 },
 "nbformat": 4,
 "nbformat_minor": 5
}
